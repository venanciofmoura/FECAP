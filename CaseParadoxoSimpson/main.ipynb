{
 "cells": [
  {
   "attachments": {},
   "cell_type": "markdown",
   "metadata": {},
   "source": [
    "Objetivos: \n",
    "- Replicar em python a regressão linear feita em sala de aula através do gretl;\n",
    "- Testar o impacto dos fertilizantes na produtividade das lavouras.\n",
    "- Esperamos que há um impacto positivo do uso de fertilizantes na produtividade das lavouras.\n",
    "\n",
    "Observações:\n",
    "- Nesse banco de dados temos um caso de paradoxo de simpson, esse é um caso que acontece quando em um modelo não temos todas as variáveis que influenciam Y e X simultâneamente, podendo causar uma distorção no modelo;\n",
    "- Os dados já estão tratados, por isso nesse projeto não há a parte de pré processamento dos dados.\n",
    "\n",
    "Unidades de medida:\n",
    "- Produtividade: Quilos produzidos por metro quadrado\n",
    "- Fertilizantes: Litros utilizados por metro quadrado\n",
    "- Qualidade do Solo: Uma pontuação de 0 a 10"
   ]
  },
  {
   "cell_type": "code",
   "execution_count": 3,
   "metadata": {},
   "outputs": [
    {
     "data": {
      "text/html": [
       "<div>\n",
       "<style scoped>\n",
       "    .dataframe tbody tr th:only-of-type {\n",
       "        vertical-align: middle;\n",
       "    }\n",
       "\n",
       "    .dataframe tbody tr th {\n",
       "        vertical-align: top;\n",
       "    }\n",
       "\n",
       "    .dataframe thead th {\n",
       "        text-align: right;\n",
       "    }\n",
       "</style>\n",
       "<table border=\"1\" class=\"dataframe\">\n",
       "  <thead>\n",
       "    <tr style=\"text-align: right;\">\n",
       "      <th></th>\n",
       "      <th>Lavoura</th>\n",
       "      <th>Produtividade</th>\n",
       "      <th>Fertilizantes</th>\n",
       "      <th>Qualidade do Solo</th>\n",
       "    </tr>\n",
       "  </thead>\n",
       "  <tbody>\n",
       "    <tr>\n",
       "      <th>0</th>\n",
       "      <td>1</td>\n",
       "      <td>2.5</td>\n",
       "      <td>23.5</td>\n",
       "      <td>0.1</td>\n",
       "    </tr>\n",
       "    <tr>\n",
       "      <th>1</th>\n",
       "      <td>2</td>\n",
       "      <td>9.5</td>\n",
       "      <td>24.8</td>\n",
       "      <td>0.7</td>\n",
       "    </tr>\n",
       "    <tr>\n",
       "      <th>2</th>\n",
       "      <td>3</td>\n",
       "      <td>5.0</td>\n",
       "      <td>21.5</td>\n",
       "      <td>0.6</td>\n",
       "    </tr>\n",
       "    <tr>\n",
       "      <th>3</th>\n",
       "      <td>4</td>\n",
       "      <td>6.0</td>\n",
       "      <td>21.9</td>\n",
       "      <td>0.4</td>\n",
       "    </tr>\n",
       "    <tr>\n",
       "      <th>4</th>\n",
       "      <td>5</td>\n",
       "      <td>8.0</td>\n",
       "      <td>25.7</td>\n",
       "      <td>0.0</td>\n",
       "    </tr>\n",
       "  </tbody>\n",
       "</table>\n",
       "</div>"
      ],
      "text/plain": [
       "   Lavoura  Produtividade  Fertilizantes  Qualidade do Solo\n",
       "0        1            2.5           23.5                0.1\n",
       "1        2            9.5           24.8                0.7\n",
       "2        3            5.0           21.5                0.6\n",
       "3        4            6.0           21.9                0.4\n",
       "4        5            8.0           25.7                0.0"
      ]
     },
     "execution_count": 3,
     "metadata": {},
     "output_type": "execute_result"
    }
   ],
   "source": [
    "#Lendo a base de dados\n",
    "import pandas as pd\n",
    "\n",
    "df = pd.read_excel('Aula Lab 1.xlsx')\n",
    "df.head()"
   ]
  },
  {
   "cell_type": "code",
   "execution_count": 4,
   "metadata": {},
   "outputs": [
    {
     "data": {
      "text/plain": [
       "<AxesSubplot:xlabel='Fertilizantes', ylabel='Produtividade'>"
      ]
     },
     "execution_count": 4,
     "metadata": {},
     "output_type": "execute_result"
    },
    {
     "data": {
      "image/png": "[encoded data removed]",
      "text/plain": [
       "<Figure size 432x288 with 1 Axes>"
      ]
     },
     "metadata": {
      "needs_background": "light"
     },
     "output_type": "display_data"
    }
   ],
   "source": [
    "#Plotando os dados\n",
    "import seaborn as sns\n",
    "\n",
    "sns.scatterplot(df, x='Fertilizantes', y='Produtividade')"
   ]
  },
  {
   "attachments": {},
   "cell_type": "markdown",
   "metadata": {},
   "source": [
    "Visualmente já temos um sinal de que há um paradoxo de Simpson nesses dados, pois podemos notar que há diversos grupos de dados com uma certa separação entre eles.\n",
    "\n",
    "### Vamos realizar a regressão:"
   ]
  },
  {
   "cell_type": "code",
   "execution_count": 6,
   "metadata": {},
   "outputs": [],
   "source": [
    "#Criando o modelo de regressão linear\n",
    "import statsmodels.api as sm\n",
    "\n",
    "x = df[['Fertilizantes']]\n",
    "y = df[['Produtividade']]\n",
    "\n",
    "x_com_constante = sm.add_constant(x)\n",
    "\n",
    "model = sm.OLS(y, x_com_constante, hasconst = True).fit()"
   ]
  },
  {
   "cell_type": "code",
   "execution_count": 7,
   "metadata": {},
   "outputs": [
    {
     "name": "stdout",
     "output_type": "stream",
     "text": [
      "                            OLS Regression Results                            \n",
      "==============================================================================\n",
      "Dep. Variable:          Produtividade   R-squared:                       0.822\n",
      "Model:                            OLS   Adj. R-squared:                  0.821\n",
      "Method:                 Least Squares   F-statistic:                     454.0\n",
      "Date:                Thu, 09 Mar 2023   Prob (F-statistic):           1.45e-38\n",
      "Time:                        09:52:15   Log-Likelihood:                -326.13\n",
      "No. Observations:                 100   AIC:                             656.3\n",
      "Df Residuals:                      98   BIC:                             661.5\n",
      "Df Model:                           1                                         \n",
      "Covariance Type:            nonrobust                                         \n",
      "=================================================================================\n",
      "                    coef    std err          t      P>|t|      [0.025      0.975]\n",
      "---------------------------------------------------------------------------------\n",
      "const            53.7914      1.322     40.689      0.000      51.168      56.415\n",
      "Fertilizantes    -1.9120      0.090    -21.307      0.000      -2.090      -1.734\n",
      "==============================================================================\n",
      "Omnibus:                        3.261   Durbin-Watson:                   1.452\n",
      "Prob(Omnibus):                  0.196   Jarque-Bera (JB):                2.196\n",
      "Skew:                          -0.168   Prob(JB):                        0.334\n",
      "Kurtosis:                       2.356   Cond. No.                         30.7\n",
      "==============================================================================\n",
      "\n",
      "Notes:\n",
      "[1] Standard Errors assume that the covariance matrix of the errors is correctly specified.\n"
     ]
    }
   ],
   "source": [
    "#Sumário\n",
    "print(model.summary())"
   ]
  },
  {
   "attachments": {},
   "cell_type": "markdown",
   "metadata": {},
   "source": [
    "Análise dos resultados:\n",
    "- Beta 0 -> Temos que a produtividade da lavoura quando não é usado nenhum fertilizante é de 53.8 quilos por metro quadrado\n",
    "- Beta 1 -> Temos que o acréscimo de 1 litro de fertilizantes diminui a produtividade em 1.9 quilos por metro quadrado\n",
    "- Podemos dizer que os estimadores citados acima são estatísticamente significantes pois o p-valor é um valor muito pequeno, menor que 5%\n",
    "\n",
    "Esses resultados vão contra a nossa hipótese inicial, mas antes de concluir qualquer coisa, temos outra variável para testar que acreditamos afetar a produtividade e o uso de fertilizantes simultâneamente.\n",
    "\n",
    "### Regressão com a variável \"Qualidade do solo\":"
   ]
  },
  {
   "cell_type": "code",
   "execution_count": 8,
   "metadata": {},
   "outputs": [],
   "source": [
    "#Criando modelo de regressão\n",
    "x = df[['Fertilizantes', 'Qualidade do Solo']]\n",
    "y = df[['Produtividade']]\n",
    "\n",
    "x_com_constante = sm.add_constant(x)\n",
    "\n",
    "model_2 = sm.OLS(y, x_com_constante, hasconst = True).fit()"
   ]
  },
  {
   "cell_type": "code",
   "execution_count": 9,
   "metadata": {},
   "outputs": [
    {
     "name": "stdout",
     "output_type": "stream",
     "text": [
      "                            OLS Regression Results                            \n",
      "==============================================================================\n",
      "Dep. Variable:          Produtividade   R-squared:                       0.956\n",
      "Model:                            OLS   Adj. R-squared:                  0.955\n",
      "Method:                 Least Squares   F-statistic:                     1062.\n",
      "Date:                Thu, 09 Mar 2023   Prob (F-statistic):           1.14e-66\n",
      "Time:                        09:52:21   Log-Likelihood:                -256.03\n",
      "No. Observations:                 100   AIC:                             518.1\n",
      "Df Residuals:                      97   BIC:                             525.9\n",
      "Df Model:                           2                                         \n",
      "Covariance Type:            nonrobust                                         \n",
      "=====================================================================================\n",
      "                        coef    std err          t      P>|t|      [0.025      0.975]\n",
      "-------------------------------------------------------------------------------------\n",
      "const               -14.6630      4.025     -3.643      0.000     -22.652      -6.674\n",
      "Fertilizantes         0.7721      0.162      4.766      0.000       0.451       1.094\n",
      "Qualidade do Solo     6.8240      0.396     17.239      0.000       6.038       7.610\n",
      "==============================================================================\n",
      "Omnibus:                        2.752   Durbin-Watson:                   1.653\n",
      "Prob(Omnibus):                  0.253   Jarque-Bera (JB):                2.113\n",
      "Skew:                          -0.283   Prob(JB):                        0.348\n",
      "Kurtosis:                       3.433   Cond. No.                         192.\n",
      "==============================================================================\n",
      "\n",
      "Notes:\n",
      "[1] Standard Errors assume that the covariance matrix of the errors is correctly specified.\n"
     ]
    }
   ],
   "source": [
    "#Sumário\n",
    "print(model_2.summary())"
   ]
  },
  {
   "attachments": {},
   "cell_type": "markdown",
   "metadata": {},
   "source": [
    "Análise dos resultados:\n",
    "- Beta 0 -> Temos que a produtividade da lavoura quando não é usado nenhum fertilizante é de -14.7 quilos por metro quadrado;\n",
    "- Beta 1 -> Temos que o acréscimo de 1 litro de fertilizantes aumenta a produtividade em 0.8 quilos por metro quadrado;\n",
    "- Beta 2 -> Temos que o acréscimo de 1 na nota de qualidade do solo, mantendo os fertilizantes constante, aumenta a produtividade em 6.8 quilos por metro quadrado.\n",
    "- Podemos dizer que os estimadores citados acima são estatísticamente significantes pois o p-valor é um valor muito pequeno, menor que 5%\n",
    "\n",
    "Considerando a variável \"Qualidade do Solo\" os resultados nos mostra que a hipótese inicial pode estar certa, os fertilizantes afetam positivamente a produtividade. \n",
    "\n",
    "Mas tem algo esquisito, o coeficiente está negativo, acredito ser impossível produzir -14.7 quilos. Uma explicação plausível é de que essa relação não é totalmente linear, pode ser um caso de rendimentos decrescentes, onde há um ponto em que os fertilizantes não trazem mais resultados positivos.\n",
    "\n",
    "Outro resultado interessante de analisar é o R quadrado e o R quadrado ajustado, eles nos dizem que 95% das variações na produtividade estão sendo explicadas pelas nossas variáveis independentes."
   ]
  }
 ],
 "metadata": {
  "kernelspec": {
   "display_name": "Python 3",
   "language": "python",
   "name": "python3"
  },
  "language_info": {
   "codemirror_mode": {
    "name": "ipython",
    "version": 3
   },
   "file_extension": ".py",
   "mimetype": "text/x-python",
   "name": "python",
   "nbconvert_exporter": "python",
   "pygments_lexer": "ipython3",
   "version": "3.9.7"
  },
  "orig_nbformat": 4
 },
 "nbformat": 4,
 "nbformat_minor": 2
}
